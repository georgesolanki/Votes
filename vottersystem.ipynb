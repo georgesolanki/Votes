{
 "cells": [
  {
   "cell_type": "code",
   "execution_count": null,
   "metadata": {},
   "outputs": [],
   "source": [
    "nominee_1=input(\"enter the niminee 1 name:\")\n",
    "nominee_1=input(\"enter the niminee 1 name:\")\n",
    "\n",
    "nom_1_votes=0\n",
    "nom_2_votes=0\n",
    "\n",
    "votes_id=[1,2,3,4,5,6,7,8,9,10]\n",
    "num_of_voter=len(votes_id)\n",
    "while True:\n",
    "    if votes_id==[]:\n",
    "        print(\"voting sesion over\" )\n",
    "        if nom_1_votes>nom_2_votes:\n",
    "            percent=(nom_1_votes/num_of_voter)*100\n",
    "            print(nominee_1,\"has won\",\"with\",percent,\"% votes\")\n",
    "        elif nom_2_votes>nom_1_votes:\n",
    "            percent=(nom_1_votes/num_of_voter)*100\n",
    "            print(nominee_2,\"has won\",\"with\",percent,\"% votes\")\n",
    "\n",
    "    voter=int(input(\"enter your voter id no:\"))\n",
    "    if voter in votes_id:\n",
    "        print(\"you are a voter \")\n",
    "        votes_id.remove(voter)\n",
    "        vote=int(input(\"enter your vote 1 or 2: \"))\n",
    "        if vote==1:\n",
    "            nom_1_votes+=1\n",
    "            print(\"thank you casting your vote\")\n",
    "        elif vote==2:\n",
    "            nom_2_votes+=1\n",
    "            print(\"thank you for casting your vote\")\n",
    "\n",
    "    else:\n",
    "        print(\"You are not a voter here or you have already voted \")"
   ]
  }
 ],
 "metadata": {
  "kernelspec": {
   "display_name": "Python 3",
   "language": "python",
   "name": "python3"
  },
  "language_info": {
   "codemirror_mode": {
    "name": "ipython",
    "version": 3
   },
   "file_extension": ".py",
   "mimetype": "text/x-python",
   "name": "python",
   "nbconvert_exporter": "python",
   "pygments_lexer": "ipython3",
   "version": "3.7.6"
  }
 },
 "nbformat": 4,
 "nbformat_minor": 4
}
